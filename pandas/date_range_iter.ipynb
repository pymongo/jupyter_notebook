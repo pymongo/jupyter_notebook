{
 "cells": [
  {
   "cell_type": "code",
   "execution_count": 3,
   "metadata": {},
   "outputs": [
    {
     "name": "stdout",
     "output_type": "stream",
     "text": [
      "2022/06/21 12:43:26\n",
      "Tue Jun 21 12:43:27 2022\n"
     ]
    }
   ],
   "source": [
    "!python -c \"print(__import__('time').strftime('%Y/%m/%d %H:%M:%S'))\"\n",
    "import time\n",
    "print(time.ctime())"
   ]
  },
  {
   "cell_type": "code",
   "execution_count": 7,
   "metadata": {},
   "outputs": [
    {
     "name": "stdout",
     "output_type": "stream",
     "text": [
      "2017-04-09 00:00:00\n",
      "2017-04-16 00:00:00\n",
      "2017-04-23 00:00:00\n",
      "2017-04-30 00:00:00\n",
      "2017-05-07 00:00:00\n",
      "2017-05-14 00:00:00\n",
      "2017-05-21 00:00:00\n",
      "<class 'pandas._libs.tslibs.timestamps.Timestamp'>\n",
      "<class 'datetime.date'>\n",
      "datetime.IsoCalendarDate(year=2017, week=20, weekday=7)\n"
     ]
    }
   ],
   "source": [
    "import pandas\n",
    "start_date = \"2017-04-09\"\n",
    "end_date   = \"2017-05-26\"\n",
    "\n",
    "for timestamp in pandas.date_range(start_date, end_date, freq=\"W\"):\n",
    "    print(timestamp)\n",
    "print(type(timestamp))\n",
    "print(type(timestamp.date()))\n",
    "print(timestamp.isocalendar())"
   ]
  },
  {
   "cell_type": "code",
   "execution_count": 1,
   "metadata": {},
   "outputs": [
    {
     "name": "stdout",
     "output_type": "stream",
     "text": [
      "nth_week is 1\n",
      "nth_week is 2\n"
     ]
    }
   ],
   "source": [
    "import pandas\n",
    "start_date = \"2018-04-22\"\n",
    "end_date   = \"2018-05-06\"\n",
    "nth_week = 0\n",
    "for day in pandas.date_range(start_date, end_date):\n",
    "    if day.date().weekday() == 0:\n",
    "        nth_week += 1\n",
    "        print(f\"nth_week is {nth_week}\")"
   ]
  }
 ],
 "metadata": {
  "kernelspec": {
   "display_name": "Python 3.10.5 64-bit",
   "language": "python",
   "name": "python3"
  },
  "language_info": {
   "codemirror_mode": {
    "name": "ipython",
    "version": 3
   },
   "file_extension": ".py",
   "mimetype": "text/x-python",
   "name": "python",
   "nbconvert_exporter": "python",
   "pygments_lexer": "ipython3",
   "version": "3.10.5"
  },
  "orig_nbformat": 4,
  "vscode": {
   "interpreter": {
    "hash": "e7370f93d1d0cde622a1f8e1c04877d8463912d04d973331ad4851f04de6915a"
   }
  }
 },
 "nbformat": 4,
 "nbformat_minor": 2
}
