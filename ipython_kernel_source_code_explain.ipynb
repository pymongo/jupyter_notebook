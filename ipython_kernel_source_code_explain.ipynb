{
 "cells": [
  {
   "attachments": {},
   "cell_type": "markdown",
   "metadata": {},
   "source": [
    "jupyter/ipython 覆盖了 sys.displayhook 方便他们在每次输出前打印`Output[1]`这样的 prompt \n",
    "\n",
    "相关的源码在 IPython/core/displayhook.py"
   ]
  },
  {
   "cell_type": "code",
   "execution_count": 1,
   "metadata": {},
   "outputs": [
    {
     "name": "stdout",
     "output_type": "stream",
     "text": [
      "sys.stdout = <ipykernel.iostream.OutStream object at 0x7f861c7f2710>\n",
      "sys.stdout = <ipykernel.iostream.OutStream object at 0x7f861c7f27a0>\n",
      "sys.stdout.pub_thread = <ipykernel.iostream.IOPubThread object at 0x7f861c7f3820>\n",
      "sys.displayhook = <ipykernel.displayhook.ZMQShellDisplayHook object at 0x7f861c69a4a0>\n"
     ]
    }
   ],
   "source": [
    "# https://wwj718.github.io/post/%E6%9E%B6%E6%9E%84/jupyter-notebook-architecture/#kernel%E4%B8%AD%E7%9A%84socket%E5%AF%B9%E8%B1%A1\n",
    "# https://jupyter-client.readthedocs.io/en/stable/messaging.html\n",
    "import sys\n",
    "print(f\"sys.stdout = {sys.stdout}\")\n",
    "print(f\"sys.stdout = {sys.stderr}\")\n",
    "print(f\"sys.stdout.pub_thread = {sys.stdout.pub_thread}\")\n",
    "print(f\"sys.displayhook = {sys.displayhook}\")"
   ]
  },
  {
   "attachments": {},
   "cell_type": "markdown",
   "metadata": {},
   "source": [
    "在 zmq 中, ROUTER 是异步的 REP; DEALER 是异步的 REQ\n",
    "\n",
    "|channel|client|server|作用|\n",
    "|---|---|---|---|\n",
    "|shell|DEALER|ROUTER|执行代码，获取代码执行结果(有点像主线程)|\n",
    "|control|DEALER|ROUTER|由于 shell/stdin 都是 blocking 的，额外需要信道收发停止/重启 kernel|\n",
    "|iopub|SUB|PUB|广播输出，且将代码执行结果 异步? 持久化到 ipynb 文件中|\n",
    "|stdin|DEALER|ROUTER|input() 函数输入|\n",
    "|hb|REQ|REP|心跳 kernel client 检查 kernel 是否 OOM 之类的|\n",
    "\n",
    "control 从 shell 中单独开一个信道是为了避免停止 kernel 这种紧迫的控制命令被 shell socket 的消息队列阻塞，\n",
    "例如一个 shell 的消息执行很久如果 stop 也在 shell 信道中就无法及时 stop\n",
    "\n",
    "### iopub 补充说明\n",
    "\n",
    "根据 jupyter_client 文档 docs/messageing.rst 的介绍，iopub 适用于多人同时编辑同一个页面，\n",
    "例如用户 A 和 B 同时编辑 a.ipynb 那么就需要通过 iopub 订阅 a.ipynb 的改动，如果用户 A 改了用户 B 就能收到通知刷新内容，\n",
    "\n",
    "就有点像聊天室应用，虽然所有聊天消息都共用一个 iopub 信道，但是非用户订阅的 ipynb 文件改动就不会收到推送\n",
    "\n",
    "### zmq SocketType reference\n",
    "- jupyter message: <https://jupyter-client.readthedocs.io/en/stable/messaging.html>\n",
    "- client reference: <https://github.com/jupyter/jupyter_client/blob/0eb492726cc279fdb3e2ff690cb62e8a69182d0d/jupyter_client/connect.py#L313>\n",
    "- server reference: <https://github.com/google/evcxr/blob/100f4320a5b12f470361188c703c870a19e975f3/evcxr_jupyter/src/control_file.rs#L24>\n",
    "\n",
    "## kernel connection 例子\n",
    "\n",
    "```json\n",
    "{\n",
    "  \"shell_port\": 44051,\n",
    "  \"iopub_port\": 36085,\n",
    "  \"stdin_port\": 46571,\n",
    "  \"control_port\": 41759,\n",
    "  \"hb_port\": 35003,\n",
    "  \"ip\": \"127.0.0.1\",\n",
    "  \"key\": \"\",\n",
    "  \"transport\": \"tcp\",\n",
    "  \"signature_scheme\": \"hmac-sha256\",\n",
    "  \"kernel_name\": \"\"\n",
    "}\n",
    "```\n",
    "\n",
    "注意 json 的每一个配置项都有对应的命令行参数，用命令行参数也行"
   ]
  },
  {
   "cell_type": "code",
   "execution_count": 3,
   "metadata": {},
   "outputs": [
    {
     "name": "stdout",
     "output_type": "stream",
     "text": [
      "<zmq.Socket(zmq.ROUTER) at 0x7f861c7e5ae0>\n",
      "<ipykernel.iostream.BackgroundSocket object at 0x7f861c7f3880>\n"
     ]
    }
   ],
   "source": [
    "import gc\n",
    "for obj in gc.get_objects():\n",
    "    if type(obj).__name__ == \"IPKernelApp\":\n",
    "        kernel = obj\n",
    "        break\n",
    "print(kernel.shell_socket)\n",
    "print(kernel.iopub_socket)"
   ]
  },
  {
   "cell_type": "code",
   "execution_count": 16,
   "metadata": {},
   "outputs": [
    {
     "data": {
      "text/plain": [
       "<coroutine object InteractiveShell.run_code at 0x7f792dbefae0>"
      ]
     },
     "execution_count": 16,
     "metadata": {},
     "output_type": "execute_result"
    }
   ],
   "source": [
    "kernel.shell.run_code(\"1\")"
   ]
  },
  {
   "attachments": {},
   "cell_type": "markdown",
   "metadata": {},
   "source": [
    "```python\n",
    "    async def run_code(self, code_obj, result=None, *, async_=False):\n",
    "        \"\"\"Execute a code object.\n",
    "\n",
    "        When an exception occurs, self.showtraceback() is called to display a\n",
    "        traceback.\n",
    "\n",
    "        Parameters\n",
    "        ----------\n",
    "        code_obj : code object\n",
    "          A compiled code object, to be executed\n",
    "        result : ExecutionResult, optional\n",
    "          An object to store exceptions that occur during execution.\n",
    "        async_ :  Bool (Experimental)\n",
    "          Attempt to run top-level asynchronous code in a default loop.\n",
    "\n",
    "        Returns\n",
    "        -------\n",
    "        False : successful execution.\n",
    "        True : an error occurred.\n",
    "        \"\"\"\n",
    "```"
   ]
  },
  {
   "cell_type": "code",
   "execution_count": 17,
   "metadata": {},
   "outputs": [
    {
     "data": {
      "text/plain": [
       "False"
      ]
     },
     "execution_count": 17,
     "metadata": {},
     "output_type": "execute_result"
    }
   ],
   "source": [
    "await kernel.shell.run_code(\"\")"
   ]
  },
  {
   "cell_type": "code",
   "execution_count": 18,
   "metadata": {},
   "outputs": [
    {
     "name": "stdout",
     "output_type": "stream",
     "text": [
      "True\n",
      "True\n"
     ]
    }
   ],
   "source": [
    "# module and namespace in which user code will be run.\n",
    "# When IPython is started normally, both parameters are None\n",
    "print(globals() is kernel.kernel.shell.user_global_ns)\n",
    "print(globals() is kernel.kernel.shell.user_ns)"
   ]
  },
  {
   "cell_type": "code",
   "execution_count": 10,
   "metadata": {},
   "outputs": [
    {
     "data": {
      "text/plain": [
       "[<_MainThread(MainThread, started 140158927955776)>,\n",
       " <Thread(IOPub, started daemon 140158856017600)>,\n",
       " <Heartbeat(Heartbeat, started daemon 140158846576320)>,\n",
       " <Thread(Thread-2 (_watch_pipe_fd), started daemon 140158821398208)>,\n",
       " <Thread(Thread-3 (_watch_pipe_fd), started daemon 140158473074368)>,\n",
       " <ControlThread(Control, started daemon 140158464681664)>,\n",
       " <HistorySavingThread(IPythonHistorySavingThread, started 140158456288960)>,\n",
       " <GarbageCollectorThread(Thread-4, started daemon 140158432499392)>]"
      ]
     },
     "execution_count": 10,
     "metadata": {},
     "output_type": "execute_result"
    }
   ],
   "source": [
    "import threading\n",
    "threading.enumerate()\n",
    "# ParentPollerUnix 线程，监视父进程，如果父进程退出，则保证 Kernel 进程也退出"
   ]
  },
  {
   "cell_type": "code",
   "execution_count": 11,
   "metadata": {},
   "outputs": [
    {
     "name": "stderr",
     "output_type": "stream",
     "text": [
      "  File \"/usr/lib/python3.10/runpy.py\", line 196, in _run_module_as_main\n",
      "    return _run_code(code, main_globals, None,\n",
      "  File \"/usr/lib/python3.10/runpy.py\", line 86, in _run_code\n",
      "    exec(code, run_globals)\n",
      "  File \"/home/w/.local/lib/python3.10/site-packages/ipykernel_launcher.py\", line 17, in <module>\n",
      "    app.launch_new_instance()\n",
      "  File \"/home/w/.local/lib/python3.10/site-packages/traitlets/config/application.py\", line 1041, in launch_instance\n",
      "    app.start()\n",
      "  File \"/home/w/.local/lib/python3.10/site-packages/ipykernel/kernelapp.py\", line 724, in start\n",
      "    self.io_loop.start()\n",
      "  File \"/home/w/.local/lib/python3.10/site-packages/tornado/platform/asyncio.py\", line 215, in start\n",
      "    self.asyncio_loop.run_forever()\n",
      "  File \"/usr/lib/python3.10/asyncio/base_events.py\", line 603, in run_forever\n",
      "    self._run_once()\n",
      "  File \"/usr/lib/python3.10/asyncio/base_events.py\", line 1899, in _run_once\n",
      "    handle._run()\n",
      "  File \"/usr/lib/python3.10/asyncio/events.py\", line 80, in _run\n",
      "    self._context.run(self._callback, *self._args)\n",
      "  File \"/home/w/.local/lib/python3.10/site-packages/ipykernel/kernelbase.py\", line 512, in dispatch_queue\n",
      "    await self.process_one()\n",
      "  File \"/home/w/.local/lib/python3.10/site-packages/ipykernel/kernelbase.py\", line 501, in process_one\n",
      "    await dispatch(*args)\n",
      "  File \"/home/w/.local/lib/python3.10/site-packages/ipykernel/kernelbase.py\", line 408, in dispatch_shell\n",
      "    await result\n",
      "  File \"/home/w/.local/lib/python3.10/site-packages/ipykernel/kernelbase.py\", line 731, in execute_request\n",
      "    reply_content = await reply_content\n",
      "  File \"/home/w/.local/lib/python3.10/site-packages/ipykernel/ipkernel.py\", line 417, in do_execute\n",
      "    res = shell.run_cell(\n",
      "  File \"/home/w/.local/lib/python3.10/site-packages/ipykernel/zmqshell.py\", line 535, in run_cell\n",
      "    return super().run_cell(*args, **kwargs)\n",
      "  File \"/home/w/.local/lib/python3.10/site-packages/IPython/core/interactiveshell.py\", line 2975, in run_cell\n",
      "    result = self._run_cell(\n",
      "  File \"/home/w/.local/lib/python3.10/site-packages/IPython/core/interactiveshell.py\", line 3030, in _run_cell\n",
      "    return runner(coro)\n",
      "  File \"/home/w/.local/lib/python3.10/site-packages/IPython/core/async_helpers.py\", line 78, in _pseudo_sync_runner\n",
      "    coro.send(None)\n",
      "  File \"/home/w/.local/lib/python3.10/site-packages/IPython/core/interactiveshell.py\", line 3257, in run_cell_async\n",
      "    has_raised = await self.run_ast_nodes(code_ast.body, cell_name,\n",
      "  File \"/home/w/.local/lib/python3.10/site-packages/IPython/core/interactiveshell.py\", line 3473, in run_ast_nodes\n",
      "    if (await self.run_code(code, result,  async_=asy)):\n",
      "  File \"/home/w/.local/lib/python3.10/site-packages/IPython/core/interactiveshell.py\", line 3553, in run_code\n",
      "    exec(code_obj, self.user_global_ns, self.user_ns)\n",
      "  File \"/tmp/ipykernel_281082/3899029333.py\", line 2, in <cell line: 2>\n",
      "    traceback.print_stack()\n"
     ]
    }
   ],
   "source": [
    "import traceback\n",
    "traceback.print_stack()"
   ]
  },
  {
   "cell_type": "code",
   "execution_count": 19,
   "metadata": {},
   "outputs": [
    {
     "name": "stdout",
     "output_type": "stream",
     "text": [
      "1\n"
     ]
    }
   ],
   "source": [
    "import inspect\n",
    "frames = {}\n",
    "for info in inspect.stack():\n",
    "    if info[3] == \"dispatch_shell\":\n",
    "        frames[\"request\"] = info[0]\n",
    "    if info[3] == \"execute_request\":\n",
    "        frames[\"reply\"] = info[0]\n",
    "print(1)"
   ]
  },
  {
   "cell_type": "code",
   "execution_count": 20,
   "metadata": {},
   "outputs": [
    {
     "data": {
      "text/plain": [
       "{'header': {'date': datetime.datetime(2022, 12, 27, 11, 47, 39, 115000, tzinfo=tzutc()),\n",
       "  'msg_id': '2164fc5e-cb8d-4f8e-88a3-995496e88f91',\n",
       "  'msg_type': 'execute_request',\n",
       "  'session': '10cdb17d-442f-4197-99b3-3960b342aad6',\n",
       "  'username': '19ee6c97-f6ac-4d0a-ada9-6caa2342e75d',\n",
       "  'version': '5.2'},\n",
       " 'msg_id': '2164fc5e-cb8d-4f8e-88a3-995496e88f91',\n",
       " 'msg_type': 'execute_request',\n",
       " 'parent_header': {},\n",
       " 'metadata': {'cellId': 'vscode-notebook-cell:/home/w/repos/baihai/IDP/mpl.ipynb#X16sZmlsZQ%3D%3D'},\n",
       " 'content': {'silent': False,\n",
       "  'store_history': True,\n",
       "  'user_expressions': {},\n",
       "  'allow_stdin': True,\n",
       "  'stop_on_error': False,\n",
       "  'code': 'import inspect\\nframes = {}\\nfor info in inspect.stack():\\n    if info[3] == \"dispatch_shell\":\\n        frames[\"request\"] = info[0]\\n    if info[3] == \"execute_request\":\\n        frames[\"reply\"] = info[0]\\nprint(1)'},\n",
       " 'buffers': []}"
      ]
     },
     "execution_count": 20,
     "metadata": {},
     "output_type": "execute_result"
    }
   ],
   "source": [
    "frames[\"request\"].f_locals[\"msg\"]"
   ]
  },
  {
   "cell_type": "code",
   "execution_count": 21,
   "metadata": {},
   "outputs": [
    {
     "data": {
      "text/plain": [
       "{'header': {'msg_id': '649e1c2f-1d0da991fe6c7c46c2c2aabc_281082_309',\n",
       "  'msg_type': 'execute_reply',\n",
       "  'username': 'w',\n",
       "  'session': '649e1c2f-1d0da991fe6c7c46c2c2aabc',\n",
       "  'date': datetime.datetime(2022, 12, 27, 11, 47, 39, 122510, tzinfo=datetime.timezone.utc),\n",
       "  'version': '5.3'},\n",
       " 'msg_id': '649e1c2f-1d0da991fe6c7c46c2c2aabc_281082_309',\n",
       " 'msg_type': 'execute_reply',\n",
       " 'parent_header': {'date': datetime.datetime(2022, 12, 27, 11, 47, 39, 115000, tzinfo=tzutc()),\n",
       "  'msg_id': '2164fc5e-cb8d-4f8e-88a3-995496e88f91',\n",
       "  'msg_type': 'execute_request',\n",
       "  'session': '10cdb17d-442f-4197-99b3-3960b342aad6',\n",
       "  'username': '19ee6c97-f6ac-4d0a-ada9-6caa2342e75d',\n",
       "  'version': '5.2'},\n",
       " 'content': {'status': 'ok',\n",
       "  'execution_count': 19,\n",
       "  'user_expressions': {},\n",
       "  'payload': []},\n",
       " 'metadata': {'started': datetime.datetime(2022, 12, 27, 11, 47, 39, 116939, tzinfo=datetime.timezone.utc),\n",
       "  'dependencies_met': True,\n",
       "  'engine': '08d11958-ad78-4af7-bdd9-99e1911035c7',\n",
       "  'status': 'ok'},\n",
       " 'tracker': <zmq.sugar.tracker.MessageTracker at 0x7f794a2b5750>}"
      ]
     },
     "execution_count": 21,
     "metadata": {},
     "output_type": "execute_result"
    }
   ],
   "source": [
    "frames[\"reply\"].f_locals[\"reply_msg\"]"
   ]
  },
  {
   "attachments": {},
   "cell_type": "markdown",
   "metadata": {},
   "source": [
    "---\n",
    "## get_ipython() and magic command"
   ]
  },
  {
   "cell_type": "code",
   "execution_count": 12,
   "metadata": {},
   "outputs": [
    {
     "data": {
      "text/plain": [
       "<ipykernel.zmqshell.ZMQInteractiveShell at 0x7f7947d9dc30>"
      ]
     },
     "execution_count": 12,
     "metadata": {},
     "output_type": "execute_result"
    }
   ],
   "source": [
    "from IPython import get_ipython\n",
    "get_ipython()"
   ]
  },
  {
   "attachments": {},
   "cell_type": "markdown",
   "metadata": {},
   "source": [
    "|||\n",
    "|---|---|\n",
    "|py 文件| None |\n",
    "|ipython| IPython.terminal.interactiveshell.TerminalInteractiveShell |\n",
    "|jupyter notebook| ipykernel.zmqshell.ZMQInteractiveShell |\n",
    "|google colab| google.colab._shell.Shell |"
   ]
  },
  {
   "cell_type": "code",
   "execution_count": 13,
   "metadata": {},
   "outputs": [
    {
     "data": {
      "text/plain": [
       "\"get_ipython().system('pwd')\\nget_ipython().run_line_magic('pylab', 'inline')\\n\""
      ]
     },
     "execution_count": 13,
     "metadata": {},
     "output_type": "execute_result"
    }
   ],
   "source": [
    "import IPython\n",
    "tm = IPython.core.inputtransformer2.TransformerManager()\n",
    "code = '''!pwd\n",
    "%pylab inline\n",
    "'''\n",
    "tm.transform_cell(code)"
   ]
  },
  {
   "cell_type": "code",
   "execution_count": 2,
   "metadata": {},
   "outputs": [
    {
     "data": {
      "image/png": "[encoded data removed]",
      "text/plain": [
       "<Figure size 640x480 with 1 Axes>"
      ]
     },
     "metadata": {},
     "output_type": "display_data"
    },
    {
     "data": {
      "image/png": "[encoded data removed]",
      "text/plain": [
       "<Figure size 640x480 with 1 Axes>"
      ]
     },
     "metadata": {},
     "output_type": "display_data"
    },
    {
     "data": {
      "image/png": "[encoded data removed]",
      "text/plain": [
       "<Figure size 640x480 with 1 Axes>"
      ]
     },
     "metadata": {},
     "output_type": "display_data"
    }
   ],
   "source": [
    "import numpy as np\n",
    "import matplotlib.pyplot as plt\n",
    "\n",
    "import inspect\n",
    "frames = {}\n",
    "for info in inspect.stack():\n",
    "    frames[info[3]] = info[0]\n",
    "\n",
    "import sys\n",
    "sys.displayhook = None\n",
    "\n",
    "i = 3\n",
    "j = 3\n",
    "plt.axis([0, i, 0, j])\n",
    "plt.ion()\n",
    "\n",
    "xs = [0, 0]\n",
    "ys = [1, 1]\n",
    "\n",
    "for i in range(i):\n",
    "    y = np.random.random() * j\n",
    "    xs[0] = xs[1]\n",
    "    ys[0] = ys[1]\n",
    "    xs[1] = i\n",
    "    ys[1] = y\n",
    "    plt.plot(xs, ys)\n",
    "    plt.pause(0.1)\n"
   ]
  },
  {
   "cell_type": "code",
   "execution_count": 28,
   "metadata": {},
   "outputs": [
    {
     "name": "stdout",
     "output_type": "stream",
     "text": [
      "20\n"
     ]
    }
   ],
   "source": [
    "print(len(frames))"
   ]
  },
  {
   "attachments": {},
   "cell_type": "markdown",
   "metadata": {},
   "source": [
    "## How `%pylab inline` works\n",
    "```\n",
    "def enable_matplotlib(self, gui=None):\n",
    "    # ...\n",
    "    from matplotlib_inline.backend_inline import configure_inline_support\n",
    "```\n",
    "So module `matplotlib_inline.backend_inline` is ipython custom matplotlib backend"
   ]
  },
  {
   "cell_type": "code",
   "execution_count": 30,
   "metadata": {},
   "outputs": [
    {
     "name": "stdout",
     "output_type": "stream",
     "text": [
      "{'<cell line: 6>': <frame at 0x55e6b2f6da30, file '/tmp/ipykernel_281082/3474975994.py', line 6, code <cell line: 6>>,\n",
      " '<module>': <frame at 0x7f794ae76c00, file '/home/w/.local/lib/python3.10/site-packages/ipykernel_launcher.py', line 17, code <module>>,\n",
      " '_pseudo_sync_runner': <frame at 0x7f79464867a0, file '/home/w/.local/lib/python3.10/site-packages/IPython/core/async_helpers.py', line 80, code _pseudo_sync_runner>,\n",
      " '_run': <frame at 0x7f794818f840, file '/usr/lib/python3.10/asyncio/events.py', line 95, code _run>,\n",
      " '_run_cell': <frame at 0x55e6b23d1d50, file '/home/w/.local/lib/python3.10/site-packages/IPython/core/interactiveshell.py', line 3030, code _run_cell>,\n",
      " '_run_code': <frame at 0x55e6b186f350, file '/usr/lib/python3.10/runpy.py', line 86, code _run_code>,\n",
      " '_run_module_as_main': <frame at 0x7f794ae11c40, file '/usr/lib/python3.10/runpy.py', line 196, code _run_module_as_main>,\n",
      " '_run_once': <frame at 0x55e6b23ac740, file '/usr/lib/python3.10/asyncio/base_events.py', line 1900, code _run_once>,\n",
      " 'dispatch_queue': <frame at 0x7f794647d1c0, file '/home/w/.local/lib/python3.10/site-packages/ipykernel/kernelbase.py', line 512, code dispatch_queue>,\n",
      " 'dispatch_shell': <frame at 0x7f79380137c0, file '/home/w/.local/lib/python3.10/site-packages/ipykernel/kernelbase.py', line 425, code dispatch_shell>,\n",
      " 'do_execute': <frame at 0x55e6b23ac060, file '/home/w/.local/lib/python3.10/site-packages/ipykernel/ipkernel.py', line 475, code do_execute>,\n",
      " 'execute_request': <frame at 0x7f7938013470, file '/home/w/.local/lib/python3.10/site-packages/ipykernel/kernelbase.py', line 757, code execute_request>,\n",
      " 'launch_instance': <frame at 0x55e6b1bf32e0, file '/home/w/.local/lib/python3.10/site-packages/traitlets/config/application.py', line 1041, code launch_instance>,\n",
      " 'process_one': <frame at 0x7f7946445b60, file '/home/w/.local/lib/python3.10/site-packages/ipykernel/kernelbase.py', line 501, code process_one>,\n",
      " 'run_ast_nodes': <frame at 0x55e6b23d21a0, file '/home/w/.local/lib/python3.10/site-packages/IPython/core/interactiveshell.py', line 3495, code run_ast_nodes>,\n",
      " 'run_cell': <frame at 0x7f794647fd80, file '/home/w/.local/lib/python3.10/site-packages/ipykernel/zmqshell.py', line 535, code run_cell>,\n",
      " 'run_cell_async': <frame at 0x7f7938015420, file '/home/w/.local/lib/python3.10/site-packages/IPython/core/interactiveshell.py', line 3274, code run_cell_async>,\n",
      " 'run_code': <frame at 0x55e6b2407af0, file '/home/w/.local/lib/python3.10/site-packages/IPython/core/interactiveshell.py', line 3578, code run_code>,\n",
      " 'run_forever': <frame at 0x7f7946482820, file '/usr/lib/python3.10/asyncio/base_events.py', line 603, code run_forever>,\n",
      " 'start': <frame at 0x7f7948868230, file '/home/w/.local/lib/python3.10/site-packages/ipykernel/kernelapp.py', line 724, code start>}\n"
     ]
    }
   ],
   "source": [
    "import pprint\n",
    "pprint.pprint(frames)"
   ]
  },
  {
   "attachments": {},
   "cell_type": "markdown",
   "metadata": {},
   "source": [
    "## IPython.display"
   ]
  },
  {
   "cell_type": "code",
   "execution_count": 1,
   "metadata": {},
   "outputs": [
    {
     "data": {
      "text/html": [
       "<h1>Hello, world!</h1>"
      ],
      "text/plain": [
       "<IPython.core.display.HTML object>"
      ]
     },
     "metadata": {},
     "output_type": "display_data"
    }
   ],
   "source": [
    "from IPython.display import display, HTML\n",
    "display(HTML('<h1>Hello, world!</h1>'))"
   ]
  }
 ],
 "metadata": {
  "kernelspec": {
   "display_name": "Python 3",
   "language": "python",
   "name": "python3"
  },
  "language_info": {
   "codemirror_mode": {
    "name": "ipython",
    "version": 3
   },
   "file_extension": ".py",
   "mimetype": "text/x-python",
   "name": "python",
   "nbconvert_exporter": "python",
   "pygments_lexer": "ipython3",
   "version": "3.10.8"
  },
  "orig_nbformat": 4,
  "vscode": {
   "interpreter": {
    "hash": "e7370f93d1d0cde622a1f8e1c04877d8463912d04d973331ad4851f04de6915a"
   }
  }
 },
 "nbformat": 4,
 "nbformat_minor": 2
}
