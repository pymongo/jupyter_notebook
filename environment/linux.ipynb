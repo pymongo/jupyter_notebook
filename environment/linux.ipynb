{
 "cells": [
  {
   "cell_type": "code",
   "execution_count": 2,
   "metadata": {},
   "outputs": [
    {
     "name": "stdout",
     "output_type": "stream",
     "text": [
      "NAME=\"Manjaro Linux\"\n",
      "ID=manjaro\n",
      "ID_LIKE=arch\n",
      "BUILD_ID=rolling\n",
      "PRETTY_NAME=\"Manjaro Linux\"\n",
      "ANSI_COLOR=\"32;1;24;144;200\"\n",
      "HOME_URL=\"https://manjaro.org/\"\n",
      "DOCUMENTATION_URL=\"https://wiki.manjaro.org/\"\n",
      "SUPPORT_URL=\"https://manjaro.org/\"\n",
      "BUG_REPORT_URL=\"https://bugs.manjaro.org/\"\n",
      "LOGO=manjarolinux\n"
     ]
    }
   ],
   "source": [
    "!cat /etc/os-release"
   ]
  },
  {
   "cell_type": "code",
   "execution_count": 10,
   "metadata": {},
   "outputs": [
    {
     "name": "stdout",
     "output_type": "stream",
     "text": [
      "Defaulting to user installation because normal site-packages is not writeable\n",
      "Requirement already satisfied: distro in /usr/lib/python3.10/site-packages (1.7.0)\n"
     ]
    },
    {
     "name": "stderr",
     "output_type": "stream",
     "text": [
      "/tmp/ipykernel_1388447/3792088909.py:6: DeprecationWarning: distro.linux_distribution() is deprecated. It should only be used as a compatibility shim with Python's platform.linux_distribution(). Please use distro.id(), distro.version() and distro.name() instead.\n",
      "  distro.linux_distribution()\n"
     ]
    },
    {
     "data": {
      "text/plain": [
       "('Manjaro Linux', '21.3.0', 'Ruah')"
      ]
     },
     "execution_count": 10,
     "metadata": {},
     "output_type": "execute_result"
    }
   ],
   "source": [
    "# platform.linux_distribution Deprecated since version 3.5, will be removed in version 3.7.\n",
    "#import platform\n",
    "#platform.linux_distribution()\n",
    "!pip install distro\n",
    "import distro\n",
    "distro.linux_distribution()"
   ]
  },
  {
   "cell_type": "code",
   "execution_count": 4,
   "metadata": {},
   "outputs": [
    {
     "name": "stdout",
     "output_type": "stream",
     "text": [
      "none\n"
     ]
    }
   ],
   "source": [
    "!systemd-detect-virt"
   ]
  }
 ],
 "metadata": {
  "kernelspec": {
   "display_name": "Python 3.10.5 64-bit",
   "language": "python",
   "name": "python3"
  },
  "language_info": {
   "codemirror_mode": {
    "name": "ipython",
    "version": 3
   },
   "file_extension": ".py",
   "mimetype": "text/x-python",
   "name": "python",
   "nbconvert_exporter": "python",
   "pygments_lexer": "ipython3",
   "version": "3.10.5"
  },
  "orig_nbformat": 4,
  "vscode": {
   "interpreter": {
    "hash": "e7370f93d1d0cde622a1f8e1c04877d8463912d04d973331ad4851f04de6915a"
   }
  }
 },
 "nbformat": 4,
 "nbformat_minor": 2
}
